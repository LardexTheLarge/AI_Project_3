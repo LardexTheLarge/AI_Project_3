{
 "cells": [
  {
   "cell_type": "code",
   "execution_count": 1,
   "metadata": {},
   "outputs": [],
   "source": [
    "import gradio as gr"
   ]
  },
  {
   "cell_type": "code",
   "execution_count": 15,
   "metadata": {},
   "outputs": [
    {
     "name": "stderr",
     "output_type": "stream",
     "text": [
      "c:\\Users\\Lardex\\anaconda3\\Lib\\site-packages\\gradio\\utils.py:915: UserWarning: Expected 2 arguments for function <function pred at 0x000001E34699C900>, received 1.\n",
      "  warnings.warn(\n",
      "c:\\Users\\Lardex\\anaconda3\\Lib\\site-packages\\gradio\\utils.py:919: UserWarning: Expected at least 2 arguments for function <function pred at 0x000001E34699C900>, received 1.\n",
      "  warnings.warn(\n"
     ]
    },
    {
     "name": "stdout",
     "output_type": "stream",
     "text": [
      "Running on local URL:  http://127.0.0.1:7869\n",
      "\n",
      "To create a public link, set `share=True` in `launch()`.\n"
     ]
    },
    {
     "data": {
      "text/html": [
       "<div><iframe src=\"http://127.0.0.1:7869/\" width=\"100%\" height=\"500\" allow=\"autoplay; camera; microphone; clipboard-read; clipboard-write;\" frameborder=\"0\" allowfullscreen></iframe></div>"
      ],
      "text/plain": [
       "<IPython.core.display.HTML object>"
      ]
     },
     "metadata": {},
     "output_type": "display_data"
    },
    {
     "data": {
      "text/plain": []
     },
     "execution_count": 15,
     "metadata": {},
     "output_type": "execute_result"
    }
   ],
   "source": [
    "\n",
    "\n",
    "# Create a Gradio Blocks instance for structuring the interface\n",
    "app = gr.Blocks(fill_height=True)\n",
    "\n",
    "# Add tabs to the Gradio Blocks\n",
    "with app:\n",
    "    #A chatbot that will be used to talk with our first model we trained\n",
    "    with gr.Tab(\"ChatBot\"):\n",
    "        chatbot = gr.Chatbot()\n",
    "        msg = gr.Textbox(placeholder=\"Ask Your Question\", show_label=False, scale=1)\n",
    "        clear = gr.ClearButton([msg, chatbot])\n",
    "\n",
    "        def respond(message, chat_history):\n",
    "            # bot_message = random.choice([\"How are you?\", \"I love you\", \"I'm very hungry\"])\n",
    "            # Put ai messages instead of the 2nd appended message\n",
    "            chat_history.append((message, message))\n",
    "            return \"\", chat_history\n",
    "        msg.submit(respond, [msg, chatbot], [msg, chatbot])\n",
    "\n",
    "    #To show the visuals from the EDA\n",
    "    with gr.Tab(\"Visuals\"):\n",
    "        with gr.Row():\n",
    "            gr.Image(\"images/mg.jpg\")\n",
    "            gr.Image(\"images/mg.jpg\")\n",
    "        with gr.Row():\n",
    "            gr.Image(\"images/mg.jpg\")\n",
    "            gr.Image(\"images/mg.jpg\")\n",
    "\n",
    "    #A basic input/output which will take some text and output a prediction that will be used with our second Model\n",
    "    with gr.Tab(\"Forecast Bot\"):\n",
    "        def pred(pred):\n",
    "            return f\"{pred}\"\n",
    "        \n",
    "        gr.Interface(fn=pred, title=\"Forecast\", allow_flagging='never',\n",
    "                   inputs=[\n",
    "                       gr.Textbox(lines=10, placeholder=\"Input\", label=\"To be Predicted\", interactive=True),\n",
    "                    #    gr.CheckboxGroup([\"USA\", \"Japan\", \"Canada\"], label=\"Countries\", info=\"Where is your prediction\"),\n",
    "                     ],\n",
    "                     outputs=gr.Textbox(lines=12, placeholder=\"Output\", label=\"Prediction\", show_copy_button=True))\n",
    "            \n",
    "\n",
    "# Launch the app\n",
    "app.launch()"
   ]
  },
  {
   "cell_type": "code",
   "execution_count": null,
   "metadata": {},
   "outputs": [],
   "source": []
  }
 ],
 "metadata": {
  "kernelspec": {
   "display_name": "base",
   "language": "python",
   "name": "python3"
  },
  "language_info": {
   "codemirror_mode": {
    "name": "ipython",
    "version": 3
   },
   "file_extension": ".py",
   "mimetype": "text/x-python",
   "name": "python",
   "nbconvert_exporter": "python",
   "pygments_lexer": "ipython3",
   "version": "3.11.5"
  }
 },
 "nbformat": 4,
 "nbformat_minor": 2
}
