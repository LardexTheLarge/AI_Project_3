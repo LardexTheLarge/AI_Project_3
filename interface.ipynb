{
 "cells": [
  {
   "cell_type": "code",
   "execution_count": 54,
   "metadata": {},
   "outputs": [],
   "source": [
    "import gradio as gr\n",
    "from transformers import pipeline, AutoModelForCausalLM, AutoTokenizer, set_seed\n",
    "import torch\n",
    "from langchain_community.llms.huggingface_pipeline import HuggingFacePipeline\n",
    "from langchain_core.prompts import PromptTemplate, FewShotPromptTemplate\n",
    "from langchain.chains import LLMChain\n",
    "from langchain.schema import HumanMessage, SystemMessage"
   ]
  },
  {
   "cell_type": "code",
   "execution_count": 66,
   "metadata": {},
   "outputs": [],
   "source": [
    "model_id = \"gpt2-large\"\n",
    "tokenizer = AutoTokenizer.from_pretrained(model_id, add_prefix_space=True)\n",
    "model = AutoModelForCausalLM.from_pretrained(model_id)\n",
    "set_seed(20)\n",
    "pipe = pipeline(\"text-generation\", model=model, tokenizer=tokenizer, max_length=200, device_map='auto')\n",
    "\n",
    "hf = HuggingFacePipeline(pipeline=pipe)"
   ]
  },
  {
   "cell_type": "code",
   "execution_count": null,
   "metadata": {},
   "outputs": [],
   "source": [
    "# hf = HuggingFacePipeline.from_model_id(\n",
    "#     model_id=\"gpt2\",\n",
    "#     task=\"text-generation\",\n",
    "#     device_map='auto',\n",
    "#     pipeline_kwargs={\"max_new_tokens\": 20}\n",
    "# )\n",
    "\n",
    "# textGen = pipeline(\"text-generation\", model='EleutherAI/gpt-neo-1.3B', framework='pt')\n",
    "# Godzilla is a fictional giant monster originating from Japanese cinema. It first appeared\n",
    "# in the 1954 film \"Godzilla,\" directed by Ishirō Honda. Godzilla is often depicted as a\n",
    "# prehistoric sea monster awakened and empowered by nuclear radiation, symbolizing the\n",
    "# consequences of atomic weapons. The character has since become a cultural icon,\n",
    "# appearing in numerous films, television series, and other media.\n",
    "\n",
    "# prefix = \"\"\"\n",
    "# Here are examples between a human and AI. The human provides a question about Godzilla, and\n",
    "# the AI provides a single sentence with easy to read words The sentence does not have to include the \n",
    "# original question. For example:\n",
    "# \"\"\"\n",
    "\n",
    "# examples = [\n",
    "#     {\n",
    "#         \"query\": \"Who is godzilla?\",\n",
    "#         \"answer\": \"Godzilla is a fictional giant monster originating from Japanese cinema. It first appeared in the 1954 film 'Godzilla,' directed by Ishirō Honda. Godzilla is often depicted as a prehistoric sea monster awakened and empowered by nuclear radiation, symbolizing the consequences of atomic weapons. The character has since become a cultural icon, appearing in numerous films, television series, and other media.\"\n",
    "#     },\n",
    "#     {\n",
    "#         \"query\": \"What is Godzilla's Power?\",\n",
    "#         \"answer\": \"Godzilla's powers vary depending on the iteration, but he is typically depicted as having immense size and strength, able to withstand powerful attacks and cause widespread destruction. In some versions, Godzilla can also emit atomic breath, a powerful beam of radiation that he uses to attack his enemies.\"\n",
    "#     },\n",
    "#     {\n",
    "#         \"query\": \"Who is Godzilla's friend?\",\n",
    "#         \"answer\": \"In various movies and series, Godzilla has been portrayed both as a destructive force and a protector of humanity. Throughout the franchise, Godzilla has formed alliances with other monsters like Mothra, Rodan, and King Kong to combat common foes. Mothra, in particular, is often depicted as a friend and ally of Godzilla, aiding him in battles against powerful adversaries.\"\n",
    "#     }\n",
    "# ]\n",
    "\n",
    "# format = \"\"\"\n",
    "# Human: {query}\n",
    "# AI: {answer}\n",
    "# \"\"\"\n",
    "# example_template = PromptTemplate(\n",
    "#     input_variables=[\"query\", \"answer\"],\n",
    "#     template=format\n",
    "# )\n",
    "\n",
    "# suffix = \"\"\"\n",
    "# Human: {query}\n",
    "# AI: \n",
    "# \"\"\"\n",
    "\n",
    "# prompt_template = FewShotPromptTemplate(\n",
    "#     examples=examples,\n",
    "#     example_prompt=example_template,\n",
    "#     input_variables=[\"query\"],\n",
    "#     prefix=prefix,\n",
    "#     suffix=suffix,\n",
    "#     example_separator=\"\\n\\n\"\n",
    "# )"
   ]
  },
  {
   "cell_type": "code",
   "execution_count": 67,
   "metadata": {},
   "outputs": [
    {
     "name": "stderr",
     "output_type": "stream",
     "text": [
      "Setting `pad_token_id` to `eos_token_id`:50256 for open-end generation.\n",
      "Both `max_new_tokens` (=30) and `max_length`(=200) seem to have been set. `max_new_tokens` will take precedence. Please refer to the documentation for more information. (https://huggingface.co/docs/transformers/main/en/main_classes/text_generation)\n"
     ]
    },
    {
     "name": "stdout",
     "output_type": "stream",
     "text": [
      "The name Godzilla comes from a Japanese expression meaning \"the huge guy.\" He is a towering giant in both size and mass,\n",
      "\n",
      "and also\n"
     ]
    }
   ],
   "source": [
    "# Define the format for the template.\n",
    "format = \"\"\"\n",
    "Godzilla is a fictional giant monster originating from Japanese cinema. It first appeared\n",
    "in the 1954 film \"Godzilla,\" directed by Ishirō Honda. Godzilla is often depicted as a\n",
    "prehistoric sea monster awakened and empowered by nuclear radiation, symbolizing the\n",
    "consequences of atomic weapons. The character has since become a cultural icon,\n",
    "appearing in numerous films, television series, and other media.\n",
    "\"\"\"\n",
    "\n",
    "# Define the query\n",
    "query = \"Who is Godzilla?\"\n",
    "\n",
    "# Combine the format and query into a prompt\n",
    "prompt = f\"{format}\\n\\n{query}\\n\"\n",
    "\n",
    "# Generate text using the prompt\n",
    "generated_text = pipe(prompt, max_new_tokens=30)[0][\"generated_text\"]\n",
    "\n",
    "# Remove the format and extract only the answer\n",
    "answer = generated_text.replace(prompt, \"\").strip()\n",
    "\n",
    "# Print the answer\n",
    "print(answer)"
   ]
  },
  {
   "cell_type": "code",
   "execution_count": 72,
   "metadata": {},
   "outputs": [
    {
     "name": "stdout",
     "output_type": "stream",
     "text": [
      "Running on local URL:  http://127.0.0.1:7872\n",
      "\n",
      "To create a public link, set `share=True` in `launch()`.\n"
     ]
    },
    {
     "data": {
      "text/html": [
       "<div><iframe src=\"http://127.0.0.1:7872/\" width=\"100%\" height=\"500\" allow=\"autoplay; camera; microphone; clipboard-read; clipboard-write;\" frameborder=\"0\" allowfullscreen></iframe></div>"
      ],
      "text/plain": [
       "<IPython.core.display.HTML object>"
      ]
     },
     "metadata": {},
     "output_type": "display_data"
    },
    {
     "data": {
      "text/plain": []
     },
     "execution_count": 72,
     "metadata": {},
     "output_type": "execute_result"
    },
    {
     "name": "stderr",
     "output_type": "stream",
     "text": [
      "Setting `pad_token_id` to `eos_token_id`:50256 for open-end generation.\n",
      "Both `max_new_tokens` (=60.1) and `max_length`(=200) seem to have been set. `max_new_tokens` will take precedence. Please refer to the documentation for more information. (https://huggingface.co/docs/transformers/main/en/main_classes/text_generation)\n"
     ]
    }
   ],
   "source": [
    "# Create a Gradio Blocks instance for structuring the interface\n",
    "app = gr.Blocks(fill_height=True)\n",
    "\n",
    "#ChatBot function\n",
    "def respond(message, chat_history):\n",
    "    prompt = f\"{format}\\n\\n{message}\\n\"\n",
    "    generated_text = pipe(prompt, max_new_tokens=30)[0][\"generated_text\"]\n",
    "    bot_message = generated_text.replace(prompt, \"\").strip()\n",
    "    chat_history.append((message, bot_message))\n",
    "    return \"\", chat_history\n",
    "\n",
    "#Forecast bot function\n",
    "def pred(info, query, tokens):\n",
    "    # Combine the format and query into a prompt\n",
    "    prompt = f\"{info}\\n\\n{query}\\n\"\n",
    "\n",
    "    # Generate text using the prompt\n",
    "    generated_text = pipe(prompt, max_new_tokens=tokens)[0][\"generated_text\"]\n",
    "\n",
    "    # Remove the format and extract only the answer\n",
    "    answer = generated_text.replace(prompt, \"\").strip()\n",
    "    return answer\n",
    "\n",
    "# Add tabs to the Gradio Blocks\n",
    "with app:\n",
    "    #A chatbot that will be used to talk with our first model we trained\n",
    "    with gr.Tab(\"ChatBot\"):\n",
    "        chatbot = gr.Chatbot()\n",
    "        msg = gr.Textbox(placeholder=\"Ask Your Question\", show_label=False, scale=1)\n",
    "        clear = gr.ClearButton([msg, chatbot])\n",
    "        msg.submit(respond, [msg, chatbot], [msg, chatbot])\n",
    "\n",
    "\n",
    "    #A basic input/output which will take some text and output a prediction that will be used with our second Model\n",
    "    with gr.Tab(\"Forecast Bot\"):\n",
    "        with gr.Row():\n",
    "\n",
    "        \n",
    "            gr.Interface(fn=pred, allow_flagging='never',\n",
    "                            inputs=[\n",
    "                            gr.Textbox(lines=10, placeholder=\"Input\", label=\"Add your info to the AI\"),\n",
    "                            gr.Textbox(lines=1, placeholder=\"Input\", label=\"Question\"),\n",
    "                            gr.Slider(2, 100, value=4, label=\"How Creative do you want your answer.\", info=\"Choose between 2 and 100\"),\n",
    "                            #gr.CheckboxGroup([\"USA\", \"Japan\", \"Canada\"], label=\"Countries\", info=\"Where is your prediction\"),\n",
    "                            ],\n",
    "                            outputs=gr.Textbox(lines=12, placeholder=\"Output\", label=\"Prediction\", show_copy_button=True, interactive=False))\n",
    "                \n",
    "\n",
    "# Launch the app\n",
    "app.launch()"
   ]
  },
  {
   "cell_type": "code",
   "execution_count": null,
   "metadata": {},
   "outputs": [],
   "source": []
  }
 ],
 "metadata": {
  "kernelspec": {
   "display_name": "base",
   "language": "python",
   "name": "python3"
  },
  "language_info": {
   "codemirror_mode": {
    "name": "ipython",
    "version": 3
   },
   "file_extension": ".py",
   "mimetype": "text/x-python",
   "name": "python",
   "nbconvert_exporter": "python",
   "pygments_lexer": "ipython3",
   "version": "3.11.5"
  }
 },
 "nbformat": 4,
 "nbformat_minor": 2
}
