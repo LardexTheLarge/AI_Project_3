{
 "cells": [
  {
   "cell_type": "markdown",
   "metadata": {},
   "source": [
    "### Gradio inteface to take a data file and out puts a predicted chart"
   ]
  },
  {
   "cell_type": "code",
   "execution_count": 1,
   "metadata": {},
   "outputs": [
    {
     "name": "stderr",
     "output_type": "stream",
     "text": [
      "c:\\Users\\hafto\\anaconda3\\lib\\site-packages\\pandas\\core\\arrays\\masked.py:60: UserWarning: Pandas requires version '1.3.6' or newer of 'bottleneck' (version '1.3.5' currently installed).\n",
      "  from pandas.core import (\n",
      "c:\\Users\\hafto\\anaconda3\\lib\\site-packages\\tqdm\\auto.py:21: TqdmWarning: IProgress not found. Please update jupyter and ipywidgets. See https://ipywidgets.readthedocs.io/en/stable/user_install.html\n",
      "  from .autonotebook import tqdm as notebook_tqdm\n"
     ]
    }
   ],
   "source": [
    "import pandas as pd\n",
    "import seaborn as sns\n",
    "import matplotlib.pyplot as plt\n",
    "import math\n",
    "from sklearn.model_selection import  train_test_split\n",
    "from sklearn.preprocessing import LabelEncoder\n",
    "from sklearn.preprocessing import StandardScaler\n",
    "import numpy as np\n",
    "from tensorflow.keras.models import Sequential\n",
    "from tensorflow.keras.layers import Dense\n",
    "import  keras_tuner as kt\n",
    "from tensorflow.keras.callbacks import EarlyStopping\n",
    "from datetime import datetime\n",
    "from keras.models import load_model\n",
    "import gradio as gr"
   ]
  },
  {
   "cell_type": "code",
   "execution_count": 2,
   "metadata": {},
   "outputs": [],
   "source": [
    "\n",
    "\n",
    "# Load the Keras model\n",
    "model = load_model('models/emission.h5')\n",
    "\n",
    "# Function to preprocess the file\n",
    "def predict_data(input_file):\n",
    "    # Load the data from the input file\n",
    "    df = pd.read_csv(input_file)\n",
    "    #Drop country from data frame\n",
    "    df.drop(columns='Country', axis=1,inplace=True)\n",
    "    \n",
    "    scaler = StandardScaler()\n",
    "    scaler.fit(df)\n",
    "    df_scaled = pd.DataFrame(scaler.transform(df), columns=df.columns)\n",
    "\n",
    "    # Make predictions using the loaded Keras model\n",
    "    predictions = model.predict(df_scaled)\n",
    "\n",
    "    #append predicted values\n",
    "    df['temp_change'] = predictions\n",
    "\n",
    "    mean_temp_change =df.groupby('Year')['temp_change'].mean()\n",
    "\n",
    "    # Plotting the data\n",
    "    plt.figure(figsize=(10, 8))\n",
    "    plt.plot(mean_temp_change.index, mean_temp_change.values, marker='o')\n",
    "    plt.xlabel('Year')\n",
    "    plt.ylabel('Mean Temperature Change')\n",
    "    plt.title('Mean Temperature Change by Year')\n",
    "    plt.grid(True)\n",
    "    plt.xticks(mean_temp_change.index)\n",
    "    \n",
    "    plt.savefig('output_chart.png')\n",
    "\n",
    "    return 'output_chart.png'\n"
   ]
  },
  {
   "cell_type": "code",
   "execution_count": 3,
   "metadata": {},
   "outputs": [
    {
     "name": "stdout",
     "output_type": "stream",
     "text": [
      "Running on local URL:  http://127.0.0.1:7860\n",
      "\n",
      "To create a public link, set `share=True` in `launch()`.\n"
     ]
    },
    {
     "data": {
      "text/html": [
       "<div><iframe src=\"http://127.0.0.1:7860/\" width=\"100%\" height=\"500\" allow=\"autoplay; camera; microphone; clipboard-read; clipboard-write;\" frameborder=\"0\" allowfullscreen></iframe></div>"
      ],
      "text/plain": [
       "<IPython.core.display.HTML object>"
      ]
     },
     "metadata": {},
     "output_type": "display_data"
    },
    {
     "data": {
      "text/plain": []
     },
     "execution_count": 3,
     "metadata": {},
     "output_type": "execute_result"
    }
   ],
   "source": [
    "# Create a Gradio interface\n",
    "iface = gr.Interface(fn=predict_data, \n",
    "                     inputs=gr.File(label=\"Upload Data File\"), \n",
    "                     outputs=\"image\")\n",
    "\n",
    "iface.launch()"
   ]
  }
 ],
 "metadata": {
  "kernelspec": {
   "display_name": "base",
   "language": "python",
   "name": "python3"
  },
  "language_info": {
   "codemirror_mode": {
    "name": "ipython",
    "version": 3
   },
   "file_extension": ".py",
   "mimetype": "text/x-python",
   "name": "python",
   "nbconvert_exporter": "python",
   "pygments_lexer": "ipython3",
   "version": "3.10.13"
  }
 },
 "nbformat": 4,
 "nbformat_minor": 2
}
